{
 "cells": [
  {
   "cell_type": "code",
   "execution_count": 32,
   "id": "54a66a97-b47c-4b49-8887-ad9fcc35943b",
   "metadata": {},
   "outputs": [
    {
     "name": "stdout",
     "output_type": "stream",
     "text": [
      "the predicted prices are as follows : \n",
      "\n",
      "      square footage  bathrooms  bedrooms  predicted price\n",
      "0                896          1         2    119998.278635\n",
      "1               1329          2         3    157006.793583\n",
      "2               1629          3         3    205854.313666\n",
      "3               1604          3         3    202948.239769\n",
      "4               1280          2         2    178610.207013\n",
      "...              ...        ...       ...              ...\n",
      "1454            1092          2         3    129457.213038\n",
      "1455            1092          2         3    129457.213038\n",
      "1456            1224          1         4    103527.331629\n",
      "1457             970          1         3    101300.939102\n",
      "1458            2000          3         3    248980.450300\n",
      "\n",
      "[1459 rows x 4 columns]\n"
     ]
    }
   ],
   "source": [
    "import numpy as np\n",
    "import pandas as pd\n",
    "from sklearn.model_selection import train_test_split\n",
    "from sklearn.metrics import mean_squared_error, r2_score\n",
    "\n",
    "\n",
    "#importing the train data\n",
    "\n",
    "train_data = pd.read_csv('train.csv')\n",
    "df_train = pd.DataFrame(train_data)\n",
    "\n",
    "X_train = np.column_stack((df_train['1stFlrSF'] + df_train['2ndFlrSF'], df_train['FullBath'] + df_train['HalfBath'], df_train['BedroomAbvGr']))\n",
    "y_train = np.array(df_train['SalePrice'])\n",
    "\n",
    "\n",
    "#importing the linear regression model\n",
    "\n",
    "from sklearn.linear_model import LinearRegression\n",
    "\n",
    "linear_reg = LinearRegression()\n",
    "\n",
    "\n",
    "#training the model\n",
    "\n",
    "linear_reg.fit(X_train,y_train)\n",
    "\n",
    "\n",
    "#importing the test data\n",
    "\n",
    "test_data = pd.read_csv('test.csv')\n",
    "df_test = pd.DataFrame(test_data)\n",
    "\n",
    "X_test = np.column_stack((df_test['1stFlrSF'] + df_test['2ndFlrSF'], df_test['FullBath'] + df_test['HalfBath'], df_test['BedroomAbvGr']))\n",
    "\n",
    "prediction_df = pd.DataFrame(X_test)\n",
    "prediction_df.rename(columns = {0 : 'square footage', 1 : 'bathrooms', 2 : 'bedrooms'}, inplace = True)\n",
    "\n",
    "#predicting the prices of test data using the model\n",
    "\n",
    "y_pred = linear_reg.predict(X_test)\n",
    "\n",
    "prediction_df.insert(3, \"predicted price\", y_pred)\n",
    "\n",
    "print(\"the predicted prices are as follows : \\n\")\n",
    "print(prediction_df)\n"
   ]
  }
 ],
 "metadata": {
  "kernelspec": {
   "display_name": "Python 3 (ipykernel)",
   "language": "python",
   "name": "python3"
  },
  "language_info": {
   "codemirror_mode": {
    "name": "ipython",
    "version": 3
   },
   "file_extension": ".py",
   "mimetype": "text/x-python",
   "name": "python",
   "nbconvert_exporter": "python",
   "pygments_lexer": "ipython3",
   "version": "3.11.5"
  }
 },
 "nbformat": 4,
 "nbformat_minor": 5
}
